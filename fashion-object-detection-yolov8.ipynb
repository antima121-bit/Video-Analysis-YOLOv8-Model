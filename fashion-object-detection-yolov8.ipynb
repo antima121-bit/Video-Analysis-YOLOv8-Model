{
 "cells": [
  {
   "cell_type": "markdown",
   "metadata": {},
   "source": [
    "# YOLOv8\n",
    "YOLOv8 is the newest state-of-the-art YOLO model that can be used for object detection, image classification, and instance segmentation tasks.<br>\n",
    "YOLOv8 includes numerous architectural and developer experience changes and improvements over YOLOv5.<br>\n",
    "\n",
    "## Why Should I Use YOLOv8?\n",
    "* YOLOv8 has a high rate of accuracy measured by COCO and Roboflow 100.\n",
    "* YOLOv8 comes with a lot of developer-convenience features, from an easy-to-use CLI to a well-structured Python package."
   ]
  },
  {
   "cell_type": "markdown",
   "metadata": {},
   "source": [
    "## Install ultralytics"
   ]
  },
  {
   "cell_type": "code",
   "execution_count": null,
   "metadata": {
    "_kg_hide-output": true,
    "execution": {
     "iopub.execute_input": "2023-03-29T13:40:23.585866Z",
     "iopub.status.busy": "2023-03-29T13:40:23.585157Z",
     "iopub.status.idle": "2023-03-29T13:40:39.740917Z",
     "shell.execute_reply": "2023-03-29T13:40:39.73967Z",
     "shell.execute_reply.started": "2023-03-29T13:40:23.58583Z"
    },
    "trusted": true
   },
   "outputs": [],
   "source": [
    "# Install ultralytics\n",
    "%pip install ultralytics"
   ]
  },
  {
   "cell_type": "code",
   "execution_count": 2,
   "metadata": {
    "execution": {
     "iopub.execute_input": "2023-03-29T13:42:18.332963Z",
     "iopub.status.busy": "2023-03-29T13:42:18.3326Z",
     "iopub.status.idle": "2023-03-29T13:42:18.341881Z",
     "shell.execute_reply": "2023-03-29T13:42:18.340705Z",
     "shell.execute_reply.started": "2023-03-29T13:42:18.332931Z"
    },
    "trusted": true
   },
   "outputs": [],
   "source": [
    "%matplotlib inline\n",
    "\n",
    "import numpy as np\n",
    "import matplotlib.pyplot as plt\n",
    "import random\n",
    "import os\n",
    "import cv2\n",
    "import shutil\n",
    "import tqdm\n",
    "import glob"
   ]
  },
  {
   "cell_type": "code",
   "execution_count": null,
   "metadata": {
    "execution": {
     "iopub.execute_input": "2023-03-29T13:40:51.75752Z",
     "iopub.status.busy": "2023-03-29T13:40:51.75646Z",
     "iopub.status.idle": "2023-03-29T13:40:54.276177Z",
     "shell.execute_reply": "2023-03-29T13:40:54.274986Z",
     "shell.execute_reply.started": "2023-03-29T13:40:51.757473Z"
    },
    "trusted": true
   },
   "outputs": [],
   "source": [
    "# Check GPU is working or not\n",
    "import torch\n",
    "print(f\"Using torch {torch.__version__} ({torch.cuda.get_device_properties(0).name if torch.cuda.is_available() else 'CPU'})\")"
   ]
  },
  {
   "cell_type": "code",
   "execution_count": 4,
   "metadata": {
    "execution": {
     "iopub.execute_input": "2023-03-29T13:40:57.880018Z",
     "iopub.status.busy": "2023-03-29T13:40:57.878766Z",
     "iopub.status.idle": "2023-03-29T13:40:57.885505Z",
     "shell.execute_reply": "2023-03-29T13:40:57.884182Z",
     "shell.execute_reply.started": "2023-03-29T13:40:57.879968Z"
    },
    "trusted": true
   },
   "outputs": [],
   "source": [
    "images_path = 'dataset/colorful_fashion/JPEGImages/'\n",
    "annotations_path = 'dataset/colorful_fashion/Annotations_txt/'\n",
    "path = 'dataset/colorful_fashion/'"
   ]
  },
  {
   "cell_type": "markdown",
   "metadata": {},
   "source": [
    "# Try YOLOv8"
   ]
  },
  {
   "cell_type": "code",
   "execution_count": null,
   "metadata": {
    "execution": {
     "iopub.execute_input": "2023-03-29T13:41:25.325275Z",
     "iopub.status.busy": "2023-03-29T13:41:25.324378Z",
     "iopub.status.idle": "2023-03-29T13:41:27.054981Z",
     "shell.execute_reply": "2023-03-29T13:41:27.053905Z",
     "shell.execute_reply.started": "2023-03-29T13:41:25.325228Z"
    },
    "trusted": true
   },
   "outputs": [],
   "source": [
    "from ultralytics import YOLO\n",
    "\n",
    "# load pre-trained model\n",
    "detection_model = YOLO(\"models/yolov8m.pt\")"
   ]
  },
  {
   "cell_type": "code",
   "execution_count": null,
   "metadata": {
    "execution": {
     "iopub.execute_input": "2023-03-29T13:42:23.102686Z",
     "iopub.status.busy": "2023-03-29T13:42:23.102118Z",
     "iopub.status.idle": "2023-03-29T13:42:23.966906Z",
     "shell.execute_reply": "2023-03-29T13:42:23.965509Z",
     "shell.execute_reply.started": "2023-03-29T13:42:23.102648Z"
    },
    "trusted": true
   },
   "outputs": [],
   "source": [
    "# choose random image\n",
    "img = random.choice(os.listdir(images_path))\n",
    "\n",
    "i=detection_model.predict(source='https://i.stack.imgur.com/GRdCC.jpg', conf=0.5, save=True, line_thickness=2, hide_labels=False)\n",
    "\n",
    "im = plt.imread('D:/Aadit/ML/Flickd/runs/detect/predict/GRdCC.jpg')\n",
    "plt.figure(figsize=(20,10))\n",
    "plt.axis('off')\n",
    "plt.imshow(im)"
   ]
  },
  {
   "cell_type": "code",
   "execution_count": null,
   "metadata": {},
   "outputs": [],
   "source": [
    "# choose random image\n",
    "img = random.choice(os.listdir('dataset/colorful_fashion/JPEGImages/'))\n",
    "\n",
    "i=detection_model.predict(source='https://i.stack.imgur.com/GRdCC.jpg', conf=0.5, save=True, line_thickness=2, hide_labels=False)\n",
    "\n",
    "im = plt.imread('D:/Aadit/ML/Flickd/runs/detect/predict/GRdCC.jpg')\n",
    "plt.figure(figsize=(20,10))\n",
    "plt.axis('off')\n",
    "plt.imshow(im)"
   ]
  },
  {
   "cell_type": "code",
   "execution_count": null,
   "metadata": {},
   "outputs": [],
   "source": [
    "# choose random image\n",
    "img = random.choice(os.listdir('dataset/colorful_fashion/JPEGImages/'))\n",
    "\n",
    "i=detection_model.predict(source='https://i.stack.imgur.com/GRdCC.jpg', conf=0.5, save=True, line_thickness=2, hide_labels=False)\n",
    "\n",
    "im = plt.imread('D:/Aadit/ML/Flickd/runs/detect/predict/GRdCC.jpg')\n",
    "plt.figure(figsize=(20,10))\n",
    "plt.axis('off')\n",
    "plt.imshow(im)"
   ]
  },
  {
   "cell_type": "code",
   "execution_count": null,
   "metadata": {},
   "outputs": [],
   "source": [
    "# choose random image\n",
    "img = random.choice(os.listdir('dataset/colorful_fashion/JPEGImages/'))\n",
    "\n",
    "i=detection_model.predict(source='https://i.stack.imgur.com/GRdCC.jpg', conf=0.5, save=True, line_thickness=2, hide_labels=False)\n",
    "\n",
    "im = plt.imread('D:/Aadit/ML/Flickd/runs/detect/predict/GRdCC.jpg')\n",
    "plt.figure(figsize=(20,10))\n",
    "plt.axis('off')\n",
    "plt.imshow(im)"
   ]
  },
  {
   "cell_type": "code",
   "execution_count": null,
   "metadata": {},
   "outputs": [],
   "source": [
    "# choose random image\n",
    "img = random.choice(os.listdir('dataset/colorful_fashion/JPEGImages/'))\n",
    "\n",
    "i=detection_model.predict(source='https://i.stack.imgur.com/GRdCC.jpg', conf=0.5, save=True, line_thickness=2, hide_labels=False)\n",
    "\n",
    "im = plt.imread('D:/Aadit/ML/Flickd/runs/detect/predict/GRdCC.jpg')\n",
    "plt.figure(figsize=(20,10))\n",
    "plt.axis('off')\n",
    "plt.imshow(im)"
   ]
  },
  {
   "cell_type": "code",
   "execution_count": null,
   "metadata": {},
   "outputs": [],
   "source": [
    "# choose random image\n",
    "img = random.choice(os.listdir('dataset/colorful_fashion/JPEGImages/'))\n",
    "\n",
    "i=detection_model.predict(source='https://i.stack.imgur.com/GRdCC.jpg', conf=0.5, save=True, line_thickness=2, hide_labels=False)\n",
    "\n",
    "im = plt.imread('D:/Aadit/ML/Flickd/runs/detect/predict/GRdCC.jpg')\n",
    "plt.figure(figsize=(20,10))\n",
    "plt.axis('off')\n",
    "plt.imshow(im)"
   ]
  },
  {
   "cell_type": "code",
   "execution_count": null,
   "metadata": {},
   "outputs": [],
   "source": [
    "# choose random image\n",
    "img = random.choice(os.listdir('dataset/colorful_fashion/JPEGImages/'))\n",
    "\n",
    "i=detection_model.predict(source='https://i.stack.imgur.com/GRdCC.jpg', conf=0.5, save=True, line_thickness=2, hide_labels=False)\n",
    "\n",
    "im = plt.imread('D:/Aadit/ML/Flickd/runs/detect/predict/GRdCC.jpg')\n",
    "plt.figure(figsize=(20,10))\n",
    "plt.axis('off')\n",
    "plt.imshow(im)"
   ]
  },
  {
   "cell_type": "code",
   "execution_count": null,
   "metadata": {},
   "outputs": [],
   "source": [
    "# choose random image\n",
    "img = random.choice(os.listdir('dataset/colorful_fashion/JPEGImages/'))\n",
    "\n",
    "i=detection_model.predict(source='https://i.stack.imgur.com/GRdCC.jpg', conf=0.5, save=True, line_thickness=2, hide_labels=False)\n",
    "\n",
    "im = plt.imread('D:/Aadit/ML/Flickd/runs/detect/predict/GRdCC.jpg')\n",
    "plt.figure(figsize=(20,10))\n",
    "plt.axis('off')\n",
    "plt.imshow(im)"
   ]
  },
  {
   "cell_type": "code",
   "execution_count": null,
   "metadata": {},
   "outputs": [],
   "source": [
    "# choose random image\n",
    "img = random.choice(os.listdir('dataset/colorful_fashion/JPEGImages/'))\n",
    "\n",
    "i=detection_model.predict(source='https://i.stack.imgur.com/GRdCC.jpg', conf=0.5, save=True, line_thickness=2, hide_labels=False)\n",
    "\n",
    "im = plt.imread('D:/Aadit/ML/Flickd/runs/detect/predict/GRdCC.jpg')\n",
    "plt.figure(figsize=(20,10))\n",
    "plt.axis('off')\n",
    "plt.imshow(im)"
   ]
  },
  {
   "cell_type": "code",
   "execution_count": null,
   "metadata": {},
   "outputs": [],
   "source": [
    "# choose random image\n",
    "img = random.choice(os.listdir('dataset/colorful_fashion/JPEGImages/'))\n",
    "\n",
    "i=detection_model.predict(source='https://i.stack.imgur.com/GRdCC.jpg', conf=0.5, save=True, line_thickness=2, hide_labels=False)\n",
    "\n",
    "im = plt.imread('D:/Aadit/ML/Flickd/runs/detect/predict/GRdCC.jpg')\n",
    "plt.figure(figsize=(20,10))\n",
    "plt.axis('off')\n",
    "plt.imshow(im)"
   ]
  },
  {
   "cell_type": "code",
   "execution_count": null,
   "metadata": {},
   "outputs": [],
   "source": [
    "# choose random image\n",
    "img = random.choice(os.listdir('dataset/colorful_fashion/JPEGImages/'))\n",
    "\n",
    "i=detection_model.predict(source='https://i.stack.imgur.com/GRdCC.jpg', conf=0.5, save=True, line_thickness=2, hide_labels=False)\n",
    "\n",
    "im = plt.imread('D:/Aadit/ML/Flickd/runs/detect/predict/GRdCC.jpg')\n",
    "plt.figure(figsize=(20,10))\n",
    "plt.axis('off')\n",
    "plt.imshow(im)"
   ]
  },
  {
   "cell_type": "code",
   "execution_count": null,
   "metadata": {},
   "outputs": [],
   "source": [
    "# choose random image\n",
    "img = random.choice(os.listdir('dataset/colorful_fashion/JPEGImages/'))\n",
    "\n",
    "i=detection_model.predict(source='https://i.stack.imgur.com/GRdCC.jpg', conf=0.5, save=True, line_thickness=2, hide_labels=False)\n",
    "\n",
    "im = plt.imread('D:/Aadit/ML/Flickd/runs/detect/predict/GRdCC.jpg')\n",
    "plt.figure(figsize=(20,10))\n",
    "plt.axis('off')\n",
    "plt.imshow(im)"
   ]
  },
  {
   "cell_type": "code",
   "execution_count": null,
   "metadata": {},
   "outputs": [],
   "source": [
    "# choose random image\n",
    "img = random.choice(os.listdir('dataset/colorful_fashion/JPEGImages/'))\n",
    "\n",
    "i=detection_model.predict(source='https://i.stack.imgur.com/GRdCC.jpg', conf=0.5, save=True, line_thickness=2, hide_labels=False)\n",
    "\n",
    "im = plt.imread('D:/Aadit/ML/Flickd/runs/detect/predict/GRdCC.jpg')\n",
    "plt.figure(figsize=(20,10))\n",
    "plt.axis('off')\n",
    "plt.imshow(im)"
   ]
  },
  {
   "cell_type": "code",
   "execution_count": null,
   "metadata": {},
   "outputs": [],
   "source": [
    "# choose random image\n",
    "img = random.choice(os.listdir('dataset/colorful_fashion/JPEGImages/'))\n",
    "\n",
    "i=detection_model.predict(source='https://i.stack.imgur.com/GRdCC.jpg', conf=0.5, save=True, line_thickness=2, hide_labels=False)\n",
    "\n",
    "im = plt.imread('D:/Aadit/ML/Flickd/runs/detect/predict/GRdCC.jpg')\n",
    "plt.figure(figsize=(20,10))\n",
    "plt.axis('off')\n",
    "plt.imshow(im)"
   ]
  },
  {
   "cell_type": "markdown",
   "metadata": {},
   "source": [
    "# Plot Training Data with Annotations"
   ]
  },
  {
   "cell_type": "code",
   "execution_count": 21,
   "metadata": {
    "_kg_hide-input": true,
    "execution": {
     "iopub.execute_input": "2023-03-29T13:42:36.078648Z",
     "iopub.status.busy": "2023-03-29T13:42:36.078162Z",
     "iopub.status.idle": "2023-03-29T13:42:36.098475Z",
     "shell.execute_reply": "2023-03-29T13:42:36.097293Z",
     "shell.execute_reply.started": "2023-03-29T13:42:36.078605Z"
    },
    "trusted": true
   },
   "outputs": [],
   "source": [
    "def convert(size,x,y,w,h):\n",
    "    box = np.zeros(4)\n",
    "    dw = 1./size[0]\n",
    "    dh = 1./size[1]\n",
    "    x = x/dw\n",
    "    w = w/dw\n",
    "    y = y/dh\n",
    "    h = h/dh\n",
    "    box[0] = x-(w/2.0)\n",
    "    box[1] = x+(w/2.0)\n",
    "    box[2] = y-(h/2.0)\n",
    "    box[3] = y+(h/2.0)\n",
    "\n",
    "    return (box)\n",
    "\n",
    "def plot_annotations(img, filename):\n",
    "    with open(annotations_path+filename, 'r') as f:\n",
    "        for line in f:\n",
    "            value = line.split()\n",
    "            cls = int(value[0])\n",
    "            x = float(value[1])\n",
    "            y = float(value[2])\n",
    "            w = float(value[3])\n",
    "            h = float(value[4])\n",
    "            \n",
    "            img_h, img_w = img.shape[:2]\n",
    "            bb = convert((img_w, img_h), x,y,w,h)\n",
    "            cv2.rectangle(img, (int(round(bb[0])),int(round(bb[2]))),(int(round(bb[1])),int(round(bb[3]))),(255,0,0),2)\n",
    "            plt.axis('off')\n",
    "            plt.imshow(img)"
   ]
  },
  {
   "cell_type": "code",
   "execution_count": null,
   "metadata": {
    "execution": {
     "iopub.execute_input": "2023-03-29T13:42:37.683062Z",
     "iopub.status.busy": "2023-03-29T13:42:37.682048Z",
     "iopub.status.idle": "2023-03-29T13:42:41.294573Z",
     "shell.execute_reply": "2023-03-29T13:42:41.291129Z",
     "shell.execute_reply.started": "2023-03-29T13:42:37.68301Z"
    },
    "trusted": true
   },
   "outputs": [],
   "source": [
    "import os\n",
    "import random\n",
    "import matplotlib.pyplot as plt\n",
    "import cv2\n",
    "import numpy as np\n",
    "\n",
    "def plot_annotations(img, filename):\n",
    "    \"\"\"Modified to handle read-only arrays\"\"\"\n",
    "    # Create writable copy of the image\n",
    "    img = img.copy()  # This creates a writable copy\n",
    "    img_h, img_w = img.shape[:2]\n",
    "    \n",
    "    # Read annotations and draw rectangles\n",
    "    with open(filename, 'r') as f:\n",
    "        for line in f:\n",
    "            class_id, x, y, w, h = map(float, line.split())\n",
    "            bb = convert((img_w, img_h), x, y, w, h)\n",
    "            cv2.rectangle(img, \n",
    "                         (int(round(bb[0])), int(round(bb[2]))),\n",
    "                         (int(round(bb[1])), int(round(bb[3]))),\n",
    "                         (255, 0, 0), 2)\n",
    "    return img\n",
    "\n",
    "plt.figure(figsize=(20, 12))\n",
    "ls = os.listdir(images_path)\n",
    "c = 1\n",
    "\n",
    "for i in random.sample(ls, 10):\n",
    "    if not i.endswith('.jpg'):\n",
    "        continue\n",
    "        \n",
    "    # Read image\n",
    "    img = plt.imread(os.path.join(images_path, i))\n",
    "    \n",
    "    # Process annotations\n",
    "    txt_file = i.rstrip('.jpg') + '.txt'\n",
    "    txt_path = os.path.join(images_path, txt_file)\n",
    "    \n",
    "    if os.path.exists(txt_path):\n",
    "        plt.subplot(2, 5, c)\n",
    "        img = plot_annotations(img, txt_path)\n",
    "        plt.imshow(img)\n",
    "        plt.axis('off')\n",
    "        c += 1\n",
    "\n",
    "plt.tight_layout()\n",
    "plt.show()"
   ]
  },
  {
   "cell_type": "code",
   "execution_count": null,
   "metadata": {},
   "outputs": [],
   "source": [
    "# choose random image\n",
    "img = random.choice(os.listdir(images_path))\n",
    "\n",
    "i=detection_model.predict(source='https://i.stack.imgur.com/GRdCC.jpg', conf=0.5, save=True, line_thickness=2, hide_labels=False)\n",
    "\n",
    "im = plt.imread('D:/Aadit/ML/Flickd/runs/detect/predict/GRdCC.jpg')\n",
    "plt.figure(figsize=(20,10))\n",
    "plt.axis('off')\n",
    "plt.imshow(im)"
   ]
  },
  {
   "cell_type": "code",
   "execution_count": null,
   "metadata": {},
   "outputs": [],
   "source": [
    "# choose random image\n",
    "img = random.choice(os.listdir(images_path))\n",
    "\n",
    "i=detection_model.predict(source='https://i.stack.imgur.com/GRdCC.jpg', conf=0.5, save=True, line_thickness=2, hide_labels=False)\n",
    "\n",
    "im = plt.imread('D:/Aadit/ML/Flickd/runs/detect/predict/GRdCC.jpg')\n",
    "plt.figure(figsize=(20,10))\n",
    "plt.axis('off')\n",
    "plt.imshow(im)"
   ]
  },
  {
   "cell_type": "code",
   "execution_count": null,
   "metadata": {},
   "outputs": [],
   "source": [
    "# choose random image\n",
    "img = random.choice(os.listdir(images_path))\n",
    "\n",
    "i=detection_model.predict(source='https://i.stack.imgur.com/GRdCC.jpg', conf=0.5, save=True, line_thickness=2, hide_labels=False)\n",
    "\n",
    "im = plt.imread('D:/Aadit/ML/Flickd/runs/detect/predict/GRdCC.jpg')\n",
    "plt.figure(figsize=(20,10))\n",
    "plt.axis('off')\n",
    "plt.imshow(im)"
   ]
  },
  {
   "cell_type": "code",
   "execution_count": null,
   "metadata": {},
   "outputs": [],
   "source": [
    "# choose random image\n",
    "img = random.choice(os.listdir(images_path))\n",
    "\n",
    "i=detection_model.predict(source='https://i.stack.imgur.com/GRdCC.jpg', conf=0.5, save=True, line_thickness=2, hide_labels=False)\n",
    "\n",
    "im = plt.imread('D:/Aadit/ML/Flickd/runs/detect/predict/GRdCC.jpg')\n",
    "plt.figure(figsize=(20,10))\n",
    "plt.axis('off')\n",
    "plt.imshow(im)"
   ]
  },
  {
   "cell_type": "code",
   "execution_count": null,
   "metadata": {},
   "outputs": [],
   "source": [
    "# choose random image\n",
    "img = random.choice(os.listdir(images_path))\n",
    "\n",
    "i=detection_model.predict(source='https://i.stack.imgur.com/GRdCC.jpg', conf=0.5, save=True, line_thickness=2, hide_labels=False)\n",
    "\n",
    "im = plt.imread('D:/Aadit/ML/Flickd/runs/detect/predict/GRdCC.jpg')\n",
    "plt.figure(figsize=(20,10))\n",
    "plt.axis('off')\n",
    "plt.imshow(im)"
   ]
  },
  {
   "cell_type": "code",
   "execution_count": null,
   "metadata": {},
   "outputs": [],
   "source": [
    "# choose random image\n",
    "img = random.choice(os.listdir(images_path))\n",
    "\n",
    "i=detection_model.predict(source='https://i.stack.imgur.com/GRdCC.jpg', conf=0.5, save=True, line_thickness=2, hide_labels=False)\n",
    "\n",
    "im = plt.imread('D:/Aadit/ML/Flickd/runs/detect/predict/GRdCC.jpg')\n",
    "plt.figure(figsize=(20,10))\n",
    "plt.axis('off')\n",
    "plt.imshow(im)"
   ]
  },
  {
   "cell_type": "markdown",
   "metadata": {},
   "source": [
    "# Prepare Dataset"
   ]
  },
  {
   "cell_type": "code",
   "execution_count": 29,
   "metadata": {
    "execution": {
     "iopub.execute_input": "2023-03-29T13:44:24.092922Z",
     "iopub.status.busy": "2023-03-29T13:44:24.092227Z",
     "iopub.status.idle": "2023-03-29T13:44:24.105285Z",
     "shell.execute_reply": "2023-03-29T13:44:24.104324Z",
     "shell.execute_reply.started": "2023-03-29T13:44:24.092884Z"
    },
    "trusted": true
   },
   "outputs": [],
   "source": [
    "import os\n",
    "\n",
    "path = 'D:/Aadit/ML/Flickd/dataset/colorful_fashion/ImageSets/Main/'\n",
    "\n",
    "train = []\n",
    "train_file = os.path.join(path, 'trainval.txt')\n",
    "with open(train_file, 'r') as f:\n",
    "    for line in f:\n",
    "        train.append(line.strip())  # strip() removes both \\n and whitespace\n",
    "\n",
    "test = []\n",
    "test_file = os.path.join(path, 'test.txt')\n",
    "with open(test_file, 'r') as f:\n",
    "    for line in f:\n",
    "        test.append(line.strip())"
   ]
  },
  {
   "cell_type": "code",
   "execution_count": null,
   "metadata": {
    "execution": {
     "iopub.execute_input": "2023-03-29T13:44:26.945781Z",
     "iopub.status.busy": "2023-03-29T13:44:26.945108Z",
     "iopub.status.idle": "2023-03-29T13:44:26.953714Z",
     "shell.execute_reply": "2023-03-29T13:44:26.951704Z",
     "shell.execute_reply.started": "2023-03-29T13:44:26.945744Z"
    },
    "trusted": true
   },
   "outputs": [],
   "source": [
    "len(train), len(test)"
   ]
  },
  {
   "cell_type": "code",
   "execution_count": null,
   "metadata": {
    "execution": {
     "iopub.execute_input": "2023-03-29T13:44:30.192649Z",
     "iopub.status.busy": "2023-03-29T13:44:30.192292Z",
     "iopub.status.idle": "2023-03-29T13:44:30.198607Z",
     "shell.execute_reply": "2023-03-29T13:44:30.197448Z",
     "shell.execute_reply.started": "2023-03-29T13:44:30.192617Z"
    },
    "trusted": true
   },
   "outputs": [],
   "source": [
    "import os\n",
    "\n",
    "# Define the base dataset path\n",
    "dataset_path = \"dataset/colorful_fashion\"\n",
    "\n",
    "# Create train directories\n",
    "os.makedirs(os.path.join(dataset_path, \"train/images\"), exist_ok=True)\n",
    "os.makedirs(os.path.join(dataset_path, \"train/labels\"), exist_ok=True)\n",
    "\n",
    "# Create test directories\n",
    "os.makedirs(os.path.join(dataset_path, \"test/images\"), exist_ok=True)\n",
    "os.makedirs(os.path.join(dataset_path, \"test/labels\"), exist_ok=True)\n",
    "\n",
    "print(\"Directory structure created successfully!\")"
   ]
  },
  {
   "cell_type": "code",
   "execution_count": null,
   "metadata": {
    "execution": {
     "iopub.execute_input": "2023-03-29T13:44:33.556444Z",
     "iopub.status.busy": "2023-03-29T13:44:33.555293Z",
     "iopub.status.idle": "2023-03-29T13:45:07.668176Z",
     "shell.execute_reply": "2023-03-29T13:45:07.667192Z",
     "shell.execute_reply.started": "2023-03-29T13:44:33.556397Z"
    },
    "trusted": true
   },
   "outputs": [],
   "source": [
    "train_path = 'dataset/colorful_fashion/train/'\n",
    "test_path = 'dataset/colorful_fashion/test/'\n",
    "\n",
    "print('Copying Train Data..!!')\n",
    "for i in tqdm.tqdm(train):\n",
    "    a = shutil.copyfile(images_path+i+'.jpg', train_path+'images/'+i+'.jpg')\n",
    "    a = shutil.copyfile(annotations_path+i+'.txt', train_path+'labels/'+i+'.txt')\n",
    "\n",
    "print('Copying Test Data..!!')\n",
    "for i in tqdm.tqdm(test):\n",
    "    a = shutil.copyfile(images_path+i+'.jpg', test_path+'images/'+i+'.jpg')\n",
    "    a = shutil.copyfile(annotations_path+i+'.txt', test_path+'labels/'+i+'.txt')"
   ]
  },
  {
   "cell_type": "markdown",
   "metadata": {},
   "source": [
    "# Train Custom Model"
   ]
  },
  {
   "cell_type": "code",
   "execution_count": 38,
   "metadata": {
    "execution": {
     "iopub.execute_input": "2023-03-29T13:45:19.52341Z",
     "iopub.status.busy": "2023-03-29T13:45:19.522953Z",
     "iopub.status.idle": "2023-03-29T13:45:19.529406Z",
     "shell.execute_reply": "2023-03-29T13:45:19.528275Z",
     "shell.execute_reply.started": "2023-03-29T13:45:19.523375Z"
    },
    "trusted": true
   },
   "outputs": [],
   "source": [
    "text = \"\"\"\n",
    "train: dataset/colorful_fashion/train\n",
    "val: dataset/colorful_fashion/test\n",
    "\n",
    "# number of classes\n",
    "nc: 10\n",
    "\n",
    "# class names\n",
    "names: ['sunglass','hat','jacket','shirt','pants','shorts','skirt','dress','bag','shoe']\n",
    "\"\"\"\n",
    "with open(\"data.yaml\", 'w') as file:\n",
    "    file.write(text)"
   ]
  },
  {
   "cell_type": "code",
   "execution_count": null,
   "metadata": {
    "_kg_hide-output": true,
    "execution": {
     "iopub.execute_input": "2023-03-29T13:45:30.589094Z",
     "iopub.status.busy": "2023-03-29T13:45:30.588718Z",
     "iopub.status.idle": "2023-03-29T14:00:20.454495Z",
     "shell.execute_reply": "2023-03-29T14:00:20.453385Z",
     "shell.execute_reply.started": "2023-03-29T13:45:30.589061Z"
    },
    "trusted": true
   },
   "outputs": [],
   "source": [
    "model = YOLO(\"models/yolov8m.pt\")\n",
    "\n",
    "model.train(data='data.yaml', epochs=5)"
   ]
  },
  {
   "cell_type": "code",
   "execution_count": null,
   "metadata": {
    "_kg_hide-input": true,
    "execution": {
     "iopub.execute_input": "2023-03-29T14:16:29.473983Z",
     "iopub.status.busy": "2023-03-29T14:16:29.473526Z",
     "iopub.status.idle": "2023-03-29T14:16:35.254043Z",
     "shell.execute_reply": "2023-03-29T14:16:35.252975Z",
     "shell.execute_reply.started": "2023-03-29T14:16:29.473937Z"
    },
    "trusted": true
   },
   "outputs": [],
   "source": [
    "%matplotlib inline\n",
    "model_path = 'runs/detect/train/'\n",
    "\n",
    "def plot(ls, size):\n",
    "    c=1\n",
    "    plt.figure(figsize=(15,10))\n",
    "    for im in ls:\n",
    "        plt.subplot(size[0],size[1],c)\n",
    "        im = plt.imread(model_path+im)\n",
    "        plt.imshow(im)\n",
    "        c+=1\n",
    "    plt.show()\n",
    "\n",
    "plot(['P_curve.png','R_curve.png'], (1,2))\n",
    "plot(['F1_curve.png','PR_curve.png'], (1,2))\n",
    "plot(['confusion_matrix.png','labels.jpg'], (1,2))\n",
    "plot(['results.png'],(1,1))"
   ]
  },
  {
   "cell_type": "markdown",
   "metadata": {},
   "source": [
    "# Test Model"
   ]
  },
  {
   "cell_type": "code",
   "execution_count": null,
   "metadata": {
    "execution": {
     "iopub.execute_input": "2023-03-29T14:17:39.289475Z",
     "iopub.status.busy": "2023-03-29T14:17:39.288568Z",
     "iopub.status.idle": "2023-03-29T14:17:42.051697Z",
     "shell.execute_reply": "2023-03-29T14:17:42.050309Z",
     "shell.execute_reply.started": "2023-03-29T14:17:39.289426Z"
    },
    "trusted": true
   },
   "outputs": [],
   "source": [
    "# choose random image from dataset\n",
    "plt.figure(figsize=(20,20))\n",
    "imgs = random.sample(os.listdir(images_path), 6)\n",
    "c=1\n",
    "for img in imgs:\n",
    "    i=model.predict(source=images_path+img, conf=0.4, save=True, line_thickness=2)\n",
    "\n",
    "    im = plt.imread('/kaggle/working/runs/detect/predict2/'+img)\n",
    "    plt.subplot(2,3,c)\n",
    "    plt.axis('off')\n",
    "    plt.imshow(im)\n",
    "    c+=1"
   ]
  }
 ],
 "metadata": {
  "kaggle": {
   "accelerator": "gpu",
   "dataSources": [
    {
     "datasetId": 1942455,
     "sourceId": 3200379,
     "sourceType": "datasetVersion"
    }
   ],
   "dockerImageVersionId": 30407,
   "isGpuEnabled": true,
   "isInternetEnabled": false,
   "language": "python",
   "sourceType": "notebook"
  },
  "kernelspec": {
   "display_name": "venv",
   "language": "python",
   "name": "python3"
  },
  "language_info": {
   "codemirror_mode": {
    "name": "ipython",
    "version": 3
   },
   "file_extension": ".py",
   "mimetype": "text/x-python",
   "name": "python",
   "nbconvert_exporter": "python",
   "pygments_lexer": "ipython3",
   "version": "3.12.4"
  }
 },
 "nbformat": 4,
 "nbformat_minor": 4
}
